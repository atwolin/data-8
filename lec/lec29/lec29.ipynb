{
 "cells": [
  {
   "cell_type": "code",
   "execution_count": null,
   "id": "bd22629d-ea02-4c9c-aa2c-eb816b24800d",
   "metadata": {},
   "outputs": [],
   "source": [
    "from datascience import *\n",
    "import numpy as np\n",
    "import matplotlib\n",
    "from mpl_toolkits.mplot3d import Axes3D\n",
    "\n",
    "%matplotlib inline\n",
    "import matplotlib.pyplot as plots\n",
    "plots.style.use('fivethirtyeight')\n",
    "\n",
    "import warnings\n",
    "warnings.simplefilter(\"ignore\")"
   ]
  },
  {
   "cell_type": "markdown",
   "id": "b8437d81-edef-4b91-8c7e-c419fadf31ca",
   "metadata": {},
   "source": [
    "**Some of today's data**"
   ]
  },
  {
   "cell_type": "code",
   "execution_count": null,
   "id": "77cc40eb-e4e1-4b61-ac17-3879813dd59e",
   "metadata": {},
   "outputs": [],
   "source": [
    "# np.array(list) converts list to an array\n",
    "# provided all the elements of list are of the same type\n",
    "\n",
    "n = 100\n",
    "second = round(n * 0.6)\n",
    "third = round(n * 0.4)\n",
    "\n",
    "year = np.array(['Second'] * second + ['Third'] * third)\n",
    "major = np.array(['Declared'] * (round(second * 0.5)) + ['Undeclared'] * (round(second * 0.5)) + \\\n",
    "                 ['Declared'] * (round(third * 0.8))  + ['Undeclared'] * (round(third * 0.2)))\n",
    "                 \n",
    "students = Table().with_columns(\n",
    "    'Year', year,\n",
    "    'Major', major\n",
    ")"
   ]
  },
  {
   "cell_type": "markdown",
   "id": "df0fedcb-db14-4be5-9fc6-c244d1b05517",
   "metadata": {},
   "source": [
    "**Helper function for later on**"
   ]
  },
  {
   "cell_type": "code",
   "execution_count": null,
   "id": "b2ca698c-d4d7-42c9-9eff-38eddc7daa55",
   "metadata": {},
   "outputs": [],
   "source": [
    "def create_population(prior_disease_prob, n):\n",
    "    disease = round(n * prior_disease_prob)\n",
    "    no_disease = round(n * (1 - prior_disease_prob))\n",
    "\n",
    "    status = np.array(['Disease'] * disease  +  ['No disease'] * no_disease)\n",
    "    result = np.array(['Test +'] * (disease) + ['Test +'] * (round(no_disease * 0.05))  + \\\n",
    "                 ['Test -'] * (round(no_disease * 0.95)))\n",
    "                 \n",
    "    t = Table().with_columns(\n",
    "    'Status', status,\n",
    "    'Test Result', result\n",
    "    )\n",
    "    return t.pivot('Test Result', 'Status')"
   ]
  },
  {
   "cell_type": "markdown",
   "id": "77af3d30-e86b-497e-a035-20406dd1c500",
   "metadata": {},
   "source": [
    "# Lecture 29"
   ]
  },
  {
   "cell_type": "markdown",
   "id": "a93d0fc7-7f8c-4733-b137-ddc6e01d6b8a",
   "metadata": {},
   "source": [
    "### Two scenarios"
   ]
  },
  {
   "cell_type": "markdown",
   "id": "c96e72a7-d057-4331-aa02-8fd835769cd6",
   "metadata": {},
   "source": [
    "Here is the data for this example(s). Verify that the data looks as is in the question statements."
   ]
  },
  {
   "cell_type": "code",
   "execution_count": null,
   "id": "18532662-22d7-4d23-87c3-04e3f358590e",
   "metadata": {},
   "outputs": [],
   "source": [
    "students.show(3)"
   ]
  },
  {
   "cell_type": "code",
   "execution_count": null,
   "id": "8f5231c0-c18c-4031-bece-ba30c8e14272",
   "metadata": {},
   "outputs": [],
   "source": [
    "students.pivot('Major', 'Year')"
   ]
  },
  {
   "cell_type": "markdown",
   "id": "be10740f-fbe0-45e7-bcbe-1ac9b71b88ee",
   "metadata": {},
   "source": [
    "Given that the person is declared, which person is more likely?"
   ]
  },
  {
   "cell_type": "markdown",
   "id": "79fb5c40-a6ac-4562-afee-b2d3f8ac9487",
   "metadata": {},
   "source": [
    "$\\mathbb{P}(\\text{Third|Declared}) = \\frac{32}{62}$"
   ]
  },
  {
   "cell_type": "markdown",
   "id": "a4ec2c73-d885-4a9b-97a1-20690aa3224a",
   "metadata": {},
   "source": [
    "$\\mathbb{P}({Second|Declared}) = \\frac{30}{62}$"
   ]
  },
  {
   "cell_type": "markdown",
   "id": "6bb02335-3ded-45d8-97b0-b87a243af417",
   "metadata": {},
   "source": [
    "**STOP**"
   ]
  },
  {
   "cell_type": "markdown",
   "id": "6a5ccdb7-b934-49ed-8381-da79d2e5c419",
   "metadata": {},
   "source": [
    "### Doctors and Clinical Tests"
   ]
  },
  {
   "cell_type": "markdown",
   "id": "0edaf3a6-d5bd-44a8-85a5-e2b3e6519f5a",
   "metadata": {},
   "source": [
    "Create a population where the rate of prevalence is $\\frac{1}{1000}$ and with size 1000."
   ]
  },
  {
   "cell_type": "code",
   "execution_count": null,
   "id": "68954051-589c-4974-95e4-bfb697e3629f",
   "metadata": {},
   "outputs": [],
   "source": [
    "create_population(1/1000, 10000)"
   ]
  },
  {
   "cell_type": "markdown",
   "id": "9ca9bd83-a0c4-4ccd-8de3-ed639ce67b81",
   "metadata": {},
   "source": [
    "The probability we calculated, $\\mathbb{P}(\\text{Disease|Test +})$, is $\\frac{10}{500}$"
   ]
  },
  {
   "cell_type": "markdown",
   "id": "2a1bf9f1-5a16-4bb6-a143-16430d945a3c",
   "metadata": {},
   "source": [
    "**STOP**"
   ]
  },
  {
   "cell_type": "markdown",
   "id": "ed09be0a-cef4-4a24-ae68-94a3edbf23b3",
   "metadata": {},
   "source": [
    "#### Using subjective priors"
   ]
  },
  {
   "cell_type": "markdown",
   "id": "647e00af-4cd1-4e94-8d81-02a161679f5d",
   "metadata": {},
   "source": [
    "Before:"
   ]
  },
  {
   "cell_type": "code",
   "execution_count": null,
   "id": "178b79c9-6887-4f66-a8ff-3f1d1a10ea35",
   "metadata": {},
   "outputs": [],
   "source": [
    "create_population(1/1000, 10000)"
   ]
  },
  {
   "cell_type": "markdown",
   "id": "814a1137-d53b-4583-b727-b48f10ec83da",
   "metadata": {},
   "source": [
    "$\\mathbb{P}(\\text{Disease|Test +}) = \\frac{\\mathbb{P}(\\text{Test +|Disease})}{\\mathbb{P}(\\text{Test +|Disease}) + \\mathbb{P}(\\text{Test +|No Disease})}$"
   ]
  },
  {
   "cell_type": "code",
   "execution_count": null,
   "id": "db9b14a5-e8a1-439c-9b4f-3dcf79729b7e",
   "metadata": {},
   "outputs": [],
   "source": [
    "(0.001 * 1) / (0.001*1 + 0.999*0.05)"
   ]
  },
  {
   "cell_type": "markdown",
   "id": "bedc97b7-ca50-4025-a999-d7be42a8fad6",
   "metadata": {},
   "source": [
    "After:"
   ]
  },
  {
   "cell_type": "code",
   "execution_count": null,
   "id": "aa51f1c5-2e27-4467-89d6-d946bd411e77",
   "metadata": {},
   "outputs": [],
   "source": [
    "(0.1 * 1) / (0.1*1 + 0.9*0.05)"
   ]
  },
  {
   "cell_type": "code",
   "execution_count": null,
   "id": "f3234a59-1e7c-435f-bd00-e32d32b0e0af",
   "metadata": {},
   "outputs": [],
   "source": [
    "create_population(1/10, 10000)"
   ]
  },
  {
   "cell_type": "markdown",
   "id": "cd07e5bb-db63-4284-bce4-6282d4b9e2a3",
   "metadata": {},
   "source": [
    "Another prior:"
   ]
  },
  {
   "cell_type": "code",
   "execution_count": null,
   "id": "bd30eeec-d52f-4213-8169-be3156dc8f08",
   "metadata": {},
   "outputs": [],
   "source": [
    "(0.5 * 1) / (0.5*1 + 0.5*0.05)"
   ]
  },
  {
   "cell_type": "code",
   "execution_count": null,
   "id": "8766148f-8856-49cb-985a-618019d3a75a",
   "metadata": {},
   "outputs": [],
   "source": [
    "create_population(1/2, 10000)"
   ]
  }
 ],
 "metadata": {
  "kernelspec": {
   "display_name": "Python 3 (ipykernel)",
   "language": "python",
   "name": "python3"
  },
  "language_info": {
   "codemirror_mode": {
    "name": "ipython",
    "version": 3
   },
   "file_extension": ".py",
   "mimetype": "text/x-python",
   "name": "python",
   "nbconvert_exporter": "python",
   "pygments_lexer": "ipython3",
   "version": "3.12.4"
  }
 },
 "nbformat": 4,
 "nbformat_minor": 5
}
